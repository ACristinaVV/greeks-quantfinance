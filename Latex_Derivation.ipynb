{
 "cells": [
  {
   "cell_type": "markdown",
   "metadata": {},
   "source": [
    "<img style=\"float: right; margin: 45px 22px 22px 22px;\" src=\"https://pngimage.net/wp-content/uploads/2018/06/logo-iteso-png-5.png\" width=\"600\" height=\"960\" /> \n",
    "    \n",
    "    \n",
    "# <font color='navy'> Quantitative Finance\n",
    "\n",
    "**Students:**\n",
    "    \n",
    "    Espinosa García, Lyha \n",
    "    Flores Ortiz, Moisés\n",
    "    Lares Barragán, Andrés\n",
    "    Rosas Medellín, Miriam Eunice\n",
    "    Vázquez Vargas, Ana Cristina\n",
    "    \n",
    "**Date:**\n",
    "\n",
    "    December 4th, 2021\n",
    "\n",
    "**Professor:** \t\n",
    "    \n",
    "    José Mario Zárate Carbajal\n",
    "\n",
    "    \n",
    "# Option Greeks"
   ]
  },
  {
   "cell_type": "markdown",
   "metadata": {},
   "source": [
    "**First-order Greeks**"
   ]
  },
  {
   "cell_type": "markdown",
   "metadata": {},
   "source": [
    "delta $\\Delta$"
   ]
  },
  {
   "cell_type": "markdown",
   "metadata": {},
   "source": []
  },
  {
   "cell_type": "markdown",
   "metadata": {},
   "source": [
    "vega $\\mathcal{V}$"
   ]
  },
  {
   "cell_type": "markdown",
   "metadata": {},
   "source": []
  },
  {
   "cell_type": "markdown",
   "metadata": {},
   "source": [
    "theta $\\Theta$"
   ]
  },
  {
   "cell_type": "markdown",
   "metadata": {},
   "source": []
  },
  {
   "cell_type": "markdown",
   "metadata": {},
   "source": [
    "rho $\\rho$"
   ]
  },
  {
   "cell_type": "markdown",
   "metadata": {},
   "source": []
  },
  {
   "cell_type": "markdown",
   "metadata": {},
   "source": [
    "epsilon $\\epsilon$"
   ]
  },
  {
   "cell_type": "markdown",
   "metadata": {},
   "source": []
  },
  {
   "cell_type": "markdown",
   "metadata": {},
   "source": [
    "lambda $\\lambda$"
   ]
  },
  {
   "cell_type": "markdown",
   "metadata": {},
   "source": []
  },
  {
   "cell_type": "markdown",
   "metadata": {},
   "source": [
    "**Second-order Greeks**"
   ]
  },
  {
   "cell_type": "markdown",
   "metadata": {},
   "source": [
    "gamma $\\Gamma$"
   ]
  },
  {
   "cell_type": "markdown",
   "metadata": {},
   "source": []
  },
  {
   "cell_type": "markdown",
   "metadata": {},
   "source": [
    "vanna"
   ]
  },
  {
   "cell_type": "markdown",
   "metadata": {},
   "source": []
  },
  {
   "cell_type": "markdown",
   "metadata": {},
   "source": [
    "charm"
   ]
  },
  {
   "cell_type": "markdown",
   "metadata": {},
   "source": []
  },
  {
   "cell_type": "markdown",
   "metadata": {},
   "source": [
    "vomma"
   ]
  },
  {
   "cell_type": "markdown",
   "metadata": {},
   "source": []
  },
  {
   "cell_type": "markdown",
   "metadata": {},
   "source": [
    "**Veta** $\\large{\\frac{\\partial^2 V_t}{\\partial \\sigma \\partial \\tau}}$\n",
    "\n",
    "> **Call**  \n",
    "> Del cálculo de Theta, sabemos que las derivadas pariales de $d_1$ y $d_2$ respecto a la variable $\\tau$ son:  \n",
    ">  \n",
    "> $$\\begin{align*}\n",
    "\\frac{\\partial d_1}{\\partial \\tau} &= -\\frac{1}{2\\sigma\\sqrt{\\tau}}[\\frac{ln(\\frac{S}{K})}{\\tau}-(r+\\frac{\\sigma^2}{2})] \\\\\n",
    "\\\\\n",
    "\\frac{\\partial d_2}{\\partial \\tau} &= \\frac{\\partial d_1}{\\partial \\tau} - \\frac{\\partial}{\\partial \\tau}[\\sigma \\sqrt{\\tau}] = \\frac{\\partial d_1}{\\partial \\tau} - \\frac{\\sigma}{2\\sqrt{\\tau}} \\\\\n",
    "\\\\\n",
    "&\\therefore \\quad \\frac{\\partial d_1}{\\partial \\tau} = \\frac{\\partial d_2}{\\partial \\tau} + \\frac{\\sigma}{2\\sqrt{\\tau}}\n",
    "\\end{align*}$$  \n",
    ">\n",
    "> Partiendo de la solución de Vega anteriormente desarrollada, se calcula su diferencial respecto de la variable $\\tau$:\n",
    ">\n",
    "> $$\\begin{align*}\n",
    "\\frac{\\partial}{\\partial \\tau}[\\frac{\\partial V_t}{ \\partial \\sigma}] &= \\frac{\\partial}{\\partial \\tau}[S_tN'(d_1)\\sqrt{\\tau}]\\\\\n",
    "\\\\\n",
    "&= S_t \\frac{\\partial}{\\partial \\tau}[N'(d_1)\\sqrt{\\tau}]\\\\\n",
    "\\\\\n",
    "&\\text{Regla del producto & de la cadena.} \\\\\n",
    "&f(\\tau) = N'(d_1) \\quad ; \\quad g(\\tau)=\\sqrt{\\tau}\\\\\n",
    "&f'(\\tau) = N''(d_1) \\frac{\\partial d_1}{\\partial \\tau}\\quad ; \\quad g'(\\tau) = \\frac{1}{2\\sqrt{}\\tau} \\\\\n",
    "\\\\\n",
    "&= S_t [g(\\tau)f'(\\tau) + f(\\tau)g'(\\tau)] \\\\\n",
    "\\\\\n",
    "&\\therefore \\quad \\frac{\\partial^2 V_t}{\\partial \\sigma \\partial \\tau} = S_t [\\sqrt{\\tau}(N''(d_1)\\frac{\\partial d_1}{\\partial \\tau}) + N'(d_1)(\\frac{1}{2\\sqrt{}\\tau})]\n",
    "\\end{align*}$$\n",
    ">\n",
    "> **Put**  \n",
    "> Independientemente del tipo de opción (compra o venta), el cálculo de $d_1$ y $d_2$ se realiza con la misma fórmula. Por ende, el resultado de sus derivadas parciales respecto a cualquier variable es equivalente.\n",
    ">\n",
    ">$$\\begin{align*}\n",
    "\\frac{\\partial d_1}{\\partial \\tau} &= -\\frac{1}{2\\sigma\\sqrt{\\tau}}[\\frac{ln(\\frac{S}{K})}{\\tau}-(r+\\frac{\\sigma^2}{2})] \\\\\n",
    "\\\\\n",
    "\\frac{\\partial d_2}{\\partial \\tau} &= \\frac{\\partial d_1}{\\partial \\tau} - \\frac{\\partial}{\\partial \\tau}[\\sigma \\sqrt{\\tau}] = \\frac{\\partial d_1}{\\partial \\tau} - \\frac{\\sigma}{2\\sqrt{\\tau}} \\\\\n",
    "\\\\\n",
    "&\\therefore \\quad \\frac{\\partial d_1}{\\partial \\tau} = \\frac{\\partial d_2}{\\partial \\tau} + \\frac{\\sigma}{2\\sqrt{\\tau}}\n",
    "\\end{align*}$$\n",
    ">\n",
    "> Dado que la solución de Vega para una opción Call y para una Put es idéntica, sus derivadas parciales respecto cualquier variable también son iguales.\n",
    ">\n",
    ">$$\\begin{align*}\n",
    "\\frac{\\partial}{\\partial \\tau}[\\frac{\\partial V_t}{ \\partial \\sigma}] &= \\frac{\\partial}{\\partial \\tau}[S_tN'(d_1)\\sqrt{\\tau}]\\\\\n",
    "\\\\\n",
    "&= S_t \\frac{\\partial}{\\partial \\tau}[N'(d_1)\\sqrt{\\tau}]\\\\\n",
    "\\\\\n",
    "&\\text{Regla del producto & de la cadena.} \\\\\n",
    "&f(\\tau) = N'(d_1) \\quad ; \\quad g(\\tau)=\\sqrt{\\tau}\\\\\n",
    "&f'(\\tau) = N''(d_1) \\frac{\\partial d_1}{\\partial \\tau}\\quad ; \\quad g'(\\tau) = \\frac{1}{2\\sqrt{}\\tau} \\\\\n",
    "\\\\\n",
    "&= S_t [g(\\tau)f'(\\tau) + f(\\tau)g'(\\tau)] \\\\\n",
    "\\\\\n",
    "&\\therefore \\quad \\frac{\\partial^2 V_t}{\\partial \\sigma \\partial \\tau} = S_t [\\sqrt{\\tau}(N''(d_1)\\frac{\\partial d_1}{\\partial \\tau}) + N'(d_1)(\\frac{1}{2\\sqrt{}\\tau})]\n",
    "\\end{align*}$$ "
   ]
  },
  {
   "cell_type": "markdown",
   "metadata": {},
   "source": [
    "**Vera** $\\large{\\frac{\\partial^2 V_t}{\\partial \\sigma \\partial r}}$\n",
    "\n",
    "> **Call**  \n",
    "> Del cálculo de Rho, sabemos que las derivadas pariales de $d_1$ y $d_2$ respecto a la variable $r$ son:  \n",
    ">  \n",
    "> $$\\begin{align*}\n",
    "\\frac{\\partial d_1}{\\partial r} &= \\frac{\\sqrt{\\tau}}{\\sigma} \\\\\n",
    "\\\\\n",
    "\\frac{\\partial d_2}{\\partial r} &= \\frac{\\partial d_1}{\\partial r} - \\frac{\\partial}{\\partial r}[\\sigma \\sqrt{\\tau}] = \\frac{\\partial d_1}{\\partial r}\\\\\n",
    "\\\\\n",
    "&\\therefore \\quad \\frac{\\partial d_1}{\\partial r} = \\frac{\\partial d_2}{\\partial r}\n",
    "\\end{align*}$$  \n",
    ">\n",
    "> Nuevamente se parte de la solución de Vega, pero en esta ocasión se deriva respecto a $r$.\n",
    "> \n",
    ">$$\\begin{align*}\n",
    "\\frac{\\partial}{\\partial r}[\\frac{\\partial V_t}{ \\partial \\sigma}] &= \\frac{\\partial}{\\partial r}[S_tN'(d_1)\\sqrt{\\tau}]\\\\\n",
    "\\\\\n",
    "&= S_t \\sqrt{\\tau} \\frac{\\partial}{\\partial r}[N'(d_1)]\\\\\n",
    "\\\\\n",
    "&\\text{Regla de la cadena} \\\\\n",
    "&= S_t \\sqrt{\\tau} [N''(d_1)\\frac{\\partial d_1}{\\partial r}]\\\\\n",
    "\\\\\n",
    "&\\text{Sustituyendo $d_1$} \\\\\n",
    "&= S_t \\sqrt{\\tau} [N''(d_1)\\frac{\\sqrt{\\tau}}{\\sigma}] \\\\\n",
    "\\\\\n",
    "&\\therefore \\quad \\frac{\\partial^2 V_t}{\\partial \\sigma \\partial r} = \\frac{S_t \\tau N''(d_1)}{\\sigma}\n",
    "\\end{align*}$$\n",
    ">\n",
    "> **Put**  \n",
    "> Las derivadas parciales de $d_1$ y $d_2$ son iguales para un Call y para un Put.\n",
    ">\n",
    "> $$\\begin{align*}\n",
    "\\frac{\\partial d_1}{\\partial r} &= \\frac{\\sqrt{\\tau}}{\\sigma} \\\\\n",
    "\\\\\n",
    "\\frac{\\partial d_2}{\\partial r} &= \\frac{\\partial d_1}{\\partial r} - \\frac{\\partial}{\\partial r}[\\sigma \\sqrt{\\tau}] = \\frac{\\partial d_1}{\\partial r}\\\\\n",
    "\\\\\n",
    "&\\therefore \\quad \\frac{\\partial d_1}{\\partial r} = \\frac{\\partial d_2}{\\partial r}\n",
    "\\end{align*}$$  \n",
    "> Reiterando, las soluciones de Vega de un Call y de un Put son iguales. Por lo tanto, sus derivadas respecto a $r$ también son las mismas.\n",
    ">\n",
    ">$$\\begin{align*}\n",
    "\\frac{\\partial}{\\partial r}[\\frac{\\partial V_t}{ \\partial \\sigma}] &= \\frac{\\partial}{\\partial r}[S_tN'(d_1)\\sqrt{\\tau}]\\\\\n",
    "\\\\\n",
    "&= S_t \\sqrt{\\tau} \\frac{\\partial}{\\partial r}[N'(d_1)]\\\\\n",
    "\\\\\n",
    "&\\text{Regla de la cadena} \\\\\n",
    "&= S_t \\sqrt{\\tau} [N''(d_1)\\frac{\\partial d_1}{\\partial r}]\\\\\n",
    "\\\\\n",
    "&\\text{Sustituyendo $d_1$} \\\\\n",
    "&= S_t \\sqrt{\\tau} [N''(d_1)\\frac{\\sqrt{\\tau}}{\\sigma}] \\\\\n",
    "\\\\\n",
    "&\\therefore \\quad \\frac{\\partial^2 V_t}{\\partial \\sigma \\partial r} = \\frac{S_t \\tau N''(d_1)}{\\sigma}\n",
    "\\end{align*}$$"
   ]
  },
  {
   "cell_type": "markdown",
   "metadata": {},
   "source": [
    "**Third-order Greeks**"
   ]
  },
  {
   "cell_type": "markdown",
   "metadata": {},
   "source": [
    "speed"
   ]
  },
  {
   "cell_type": "markdown",
   "metadata": {},
   "source": []
  },
  {
   "cell_type": "markdown",
   "metadata": {},
   "source": [
    "zomma"
   ]
  },
  {
   "cell_type": "markdown",
   "metadata": {},
   "source": []
  },
  {
   "cell_type": "markdown",
   "metadata": {},
   "source": [
    "color"
   ]
  },
  {
   "cell_type": "markdown",
   "metadata": {},
   "source": []
  },
  {
   "cell_type": "markdown",
   "metadata": {},
   "source": [
    "ultima"
   ]
  },
  {
   "cell_type": "markdown",
   "metadata": {},
   "source": []
  }
 ],
 "metadata": {
  "kernelspec": {
   "display_name": "Python 3",
   "language": "python",
   "name": "python3"
  },
  "language_info": {
   "codemirror_mode": {
    "name": "ipython",
    "version": 3
   },
   "file_extension": ".py",
   "mimetype": "text/x-python",
   "name": "python",
   "nbconvert_exporter": "python",
   "pygments_lexer": "ipython3",
   "version": "3.8.5"
  }
 },
 "nbformat": 4,
 "nbformat_minor": 4
}
