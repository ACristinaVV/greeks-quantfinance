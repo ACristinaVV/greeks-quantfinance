{
 "cells": [
  {
   "cell_type": "markdown",
   "metadata": {},
   "source": [
    "<img style=\"float: right; margin: 45px 22px 22px 22px;\" src=\"https://pngimage.net/wp-content/uploads/2018/06/logo-iteso-png-5.png\" width=\"600\" height=\"960\" /> \n",
    "    \n",
    "    \n",
    "# <font color='navy'> Quantitative Finance\n",
    "\n",
    "**Students:**\n",
    "    \n",
    "    Espinosa García, Lyha \n",
    "    Flores Ortiz, Moisés\n",
    "    Lares Barragán, Andrés\n",
    "    Rosas Medellín, Miriam Eunice\n",
    "    Vázquez Vargas, Ana Cristina\n",
    "    \n",
    "**Date:**\n",
    "\n",
    "    December 4th, 2021\n",
    "\n",
    "**Professor:** \t\n",
    "    \n",
    "    José Mario Zárate Carbajal\n",
    "\n",
    "    \n",
    "# Option Greeks"
   ]
  },
  {
   "cell_type": "markdown",
   "metadata": {},
   "source": [
    "**First-order Greeks**"
   ]
  },
  {
   "cell_type": "markdown",
   "metadata": {},
   "source": [
    "delta $\\Delta$"
   ]
  },
  {
   "cell_type": "markdown",
   "metadata": {},
   "source": []
  },
  {
   "cell_type": "markdown",
   "metadata": {},
   "source": [
    "vega $\\mathcal{V}$"
   ]
  },
  {
   "cell_type": "markdown",
   "metadata": {},
   "source": []
  },
  {
   "cell_type": "markdown",
   "metadata": {},
   "source": [
    "theta $\\Theta$"
   ]
  },
  {
   "cell_type": "markdown",
   "metadata": {},
   "source": []
  },
  {
   "cell_type": "markdown",
   "metadata": {},
   "source": [
    "rho $\\rho$"
   ]
  },
  {
   "cell_type": "markdown",
   "metadata": {},
   "source": []
  },
  {
   "cell_type": "markdown",
   "metadata": {},
   "source": [
    "**epsilon** $\\epsilon = \\psi = \\frac{\\partial V_t}{\\partial q} $\n"
   ]
  },
  {
   "cell_type": "markdown",
   "metadata": {},
   "source": [
    "**Call**\n",
    "\n",
    "Epsilon $\\epsilon$ es el cambio porcentual en el valor de la opción por el cambio porcentual en el rendimiento del dividendo subyacente, es una medida de riesgo del dividendo. Esta sensibilidad solo puede aplicarse a instrumentos derivados de renta variable (de acciones).\n",
    "$$\n",
    "\\epsilon = \\psi = \\frac{\\partial V_t}{\\partial q} \n",
    "$$\n",
    "\n",
    "Recordado que por definición el valor justo de una opción europea call que toma en cuenta un dividendo $q$ es:\n",
    "\n",
    "\n",
    "$$\n",
    "C_t = S_te^{-q(T-t)}N(d_1) - Ke^{-r(T-t)}N(d_2)\n",
    "$$\n",
    "\n",
    "\n",
    "Comenzamos a derivar la griega **Epsilon** $\\frac{\\partial V_t}{\\partial q} = \\epsilon$\n",
    "\n",
    "Las definiciones de $d_1$ y $d_2$ considerando un dividendo $q$ son:\n",
    "$$\n",
    "d1 = \\frac{ln\\big(\\frac{St}{k}\\big) + (r-q+ \\frac{\\sigma^2}{2})(T-t)}{\\sigma\\sqrt{(T-t)}}\n",
    "$$\n",
    "\n",
    "$$\n",
    "d2 = \\frac{ln\\big(\\frac{St}{k}\\big) + (r-q- \\frac{\\sigma^2}{2})(T-t)}{\\sigma\\sqrt{(T-t)}} = d_1 - \\sigma\\sqrt{(T-t)}\n",
    "$$\n",
    "\n",
    "\n",
    "Primer paso derivar $d1$ respecto a $q$\n",
    "\n",
    "$$\n",
    "\\frac{\\partial d_1}{\\partial q} = \\frac{\\partial}{\\partial q}\\bigg(\\frac{ln\\big(\\frac{St}{k}\\big) + (r-q+ \\frac{\\sigma^2}{2})(T-t)}{\\sigma\\sqrt{(T-t)}}\\bigg)\n",
    "$$\n",
    "\n",
    "$$\n",
    "\\frac{\\partial d_1}{\\partial q} = \\frac{\\partial}{\\partial q}\\bigg(\\frac{lnS_t}{\\sigma\\sqrt{T-t}}-\\frac{lnk}{\\sigma\\sqrt{T-t}}  + \\frac{(r-q+ \\frac{\\sigma^2}{2})(T-t)}{\\sigma\\sqrt{(T-t)}}\\bigg)\n",
    "$$\n",
    "\n",
    "$$\n",
    "\\frac{\\partial d_1}{\\partial q} =  0  + 0 + \\frac{\\partial}{\\partial q}\\bigg(  \\frac{r}{\\sigma\\sqrt{(T-t)}}-\\frac{q}{\\sigma\\sqrt{(T-t)}}+ \\frac{\\frac{\\sigma^2}{2}(T-t)}{{\\sigma\\sqrt{(T-t)}}} \\bigg)\n",
    "$$\n",
    "\n",
    "$$\n",
    "\\frac{\\partial d_1}{\\partial q} = -\\frac{1}{\\sigma\\sqrt{(T-t)}}\n",
    "$$\n",
    "\n",
    "\n",
    "\n",
    "Ahora derivamos $d_2$ respecto a $q$:\n",
    "$$\n",
    "\\frac{\\partial d_2}{\\partial q} = \\frac{\\partial}{\\partial q} \\bigg(d_1 - \\sigma\\sqrt{(T-t)}\\bigg)\n",
    "$$\n",
    "\n",
    "$$\n",
    "\\frac{\\partial d_2}{\\partial q} = \\frac{\\partial d_1}{\\partial q}\n",
    "$$\n",
    "\n",
    "\n",
    "\n",
    "\n",
    "LLegamos a la siguiente propiedad:\n",
    "\n",
    "$$\n",
    "\\frac{\\partial d_1}{\\partial q} = \\frac{\\partial d_2}{\\partial q}\n",
    "$$\n",
    "\n",
    "\n",
    "Posteriormente, aplicamos la regla de la cadena derivando respecto a $q$ en la ecuación del valor justo de la call europea:\n",
    "\n",
    "$$\n",
    "\\frac{\\partial V_t}{\\partial q} = \\frac{\\partial}{\\partial q} \\big(S_te^{-q(T-t)}N(d_1) - Ke^{-r(T-t)}N(d_2)\\big)\n",
    "$$\n",
    "\n",
    "$$\n",
    "\\frac{\\partial V_t}{\\partial q} = -(T-t)e^{-q(T-t)}S_tN(d_1) + N'(d_1)\\frac{\\partial d_1}{\\partial q}S_te^{-q(T-t)}-Ke^{-r(T-t)} \\bigg[N'(d_2) \\frac{\\partial d_2}{\\partial q}\\bigg]\n",
    "$$\n",
    "\n",
    "Se aplica propiedad $\\frac{\\partial d_1}{\\partial q} = \\frac{\\partial d_2}{\\partial q}$\n",
    "\n",
    "$$\n",
    "\\frac{\\partial V_t}{\\partial q} = -(T-t)e^{-q(T-t)}S_tN(d_1) + N'(d_1)\\frac{\\partial d_1}{\\partial q}S_te^{-q(T-t)}-Ke^{-r(T-t)} N'(d_2) \\frac{\\partial d_1}{\\partial q}\n",
    "$$\n",
    "\n",
    "\n",
    "\n",
    "\n",
    "Factorizamos $\\frac{\\partial d_1}{\\partial q}$\n",
    "\n",
    "$$\n",
    "\\frac{\\partial V_t}{\\partial q} = -(T-t)e^{-q(T-t)}S_tN(d_1) + \\frac{\\partial d_1}{\\partial q}\\bigg[S_te^{-q(T-t)}N'(d_1)-Ke^{-r(T-t)} N'(d_2) \\bigg]\n",
    "$$\n",
    "\n",
    "\n",
    "Por propiedad $S_te^{-q(T-t)}N'(d_1) = Ke^{-r(T-t)}N'(d_2)$ el término $S_te^{-q(T-t)}N'(d_1)- Ke^{-r(T-t)}N'(d_2) $ es igual a 0.\n",
    "\n",
    "$$\n",
    "\\frac{\\partial V_t}{\\partial q} = -(T-t)e^{-q(T-t)}S_tN(d_1) + \\frac{\\partial d_1}{\\partial q}\\bigg[0 \\bigg]\n",
    "$$\n",
    "\n",
    "$$\n",
    "\\frac{\\partial V_t}{\\partial q} =-S_t(T-t)e^{-q(T-t)}N(d_1)\n",
    "$$\n",
    "\n",
    "**Put**\n",
    "\n",
    "Recordado que por definición el valor justo de una opción europea put que toma en cuenta un dividendo $q$ es:\n",
    "\n",
    "\n",
    "$$\n",
    "P_t = e^{-r(T-t)}kN(-d_2) -  S_te^{-q(T-t)}N(-d_1)\n",
    "$$\n",
    "\n",
    "\n",
    "Comenzamos a derivar la griega **Epsilon** $\\frac{\\partial V_t}{\\partial q} = \\epsilon$\n",
    "\n",
    "Las definiciones de $-d_1$ y $-d_2$ considerando un dividendo $q$ son:\n",
    "\n",
    "$$\n",
    "-d1 = -\\frac{ln\\big(\\frac{St}{k}\\big) - (r-q+ \\frac{\\sigma^2}{2})(T-t)}{\\sigma\\sqrt{(T-t)}}\n",
    "$$\n",
    "\n",
    "$$\n",
    "-d2 = -\\frac{ln\\big(\\frac{St}{k}\\big) - (r-q- \\frac{\\sigma^2}{2})(T-t)}{\\sigma\\sqrt{(T-t)}} = -d_1 + \\sigma\\sqrt{(T-t)}\n",
    "$$\n",
    "\n",
    "\n",
    "Primer paso derivar $-d1$ respecto a $q$\n",
    "\n",
    "$$\n",
    "\\frac{\\partial -d_1}{\\partial q} = -\\frac{\\partial}{\\partial q}\\bigg(\\frac{-ln\\big(\\frac{St}{k}\\big) - (r-q+ \\frac{\\sigma^2}{2})(T-t)}{\\sigma\\sqrt{(T-t)}}\\bigg)\n",
    "$$\n",
    "\n",
    "$$\n",
    "\\frac{\\partial -d_1}{\\partial q} = -\\frac{\\partial}{\\partial q}\\bigg(-\\frac{lnS_t}{\\sigma\\sqrt{T-t}}+\\frac{lnk}{\\sigma\\sqrt{T-t}}  - \\frac{(r-q+ \\frac{\\sigma^2}{2})(T-t)}{\\sigma\\sqrt{(T-t)}}\\bigg)\n",
    "$$\n",
    "\n",
    "$$\n",
    "\\frac{\\partial d_1}{\\partial q} =  0  + 0 + \\frac{\\partial}{\\partial q}\\bigg(  -\\frac{r}{\\sigma\\sqrt{(T-t)}}+\\frac{q}{\\sigma\\sqrt{(T-t)}}- \\frac{\\frac{\\sigma^2}{2}(T-t)}{{\\sigma\\sqrt{(T-t)}}} \\bigg)\n",
    "$$\n",
    "\n",
    "$$\n",
    "\\frac{\\partial -d_1}{\\partial q} = \\frac{1}{\\sigma\\sqrt{(T-t)}}\n",
    "$$\n",
    "\n",
    "\n",
    "\n",
    "Ahora derivamos $d_2$ respecto a $q$:\n",
    "$$\n",
    "\\frac{\\partial -d_2}{\\partial q} = \\frac{\\partial}{\\partial q} \\bigg(-d_1 + \\sigma\\sqrt{(T-t)}\\bigg)\n",
    "$$\n",
    "\n",
    "$$\n",
    "\\frac{\\partial -d_2}{\\partial q} = \\frac{\\partial -d_1}{\\partial q}\n",
    "$$\n",
    "\n",
    "\n",
    "\n",
    "\n",
    "LLegamos a la siguiente propiedad:\n",
    "\n",
    "$$\n",
    "\\frac{\\partial -d_1}{\\partial q} = \\frac{\\partial -d_2}{\\partial q}\n",
    "$$\n",
    "\n",
    "\n",
    "Posteriormente, aplicamos la regla de la cadena derivando respecto a $q$ en la ecuación del valor justo de la put europea:\n",
    "\n",
    "$$\n",
    "\\frac{\\partial V_t}{\\partial q} = \\frac{\\partial}{\\partial q} \\big(e^{-r(T-t)}kN(-d_2) -  S_te^{-q(T-t)}N(-d_1)\\big)\n",
    "$$\n",
    "\n",
    "$$\n",
    "\\frac{\\partial V_t}{\\partial q} = Ke^{-r(T-t)} \\bigg[N'(-d_2) \\frac{\\partial -d_2}{\\partial q}\\bigg]\n",
    "+(T-t)S_te^{-q(T-t)}N(-d_1) + N'(-d_1)\\frac{\\partial -d_1}{\\partial q}S_te^{-q(T-t)}$$\n",
    "\n",
    "Se aplica propiedad $\\frac{\\partial -d_1}{\\partial q} = \\frac{\\partial -d_2}{\\partial q}$\n",
    "\n",
    "$$\n",
    "\\frac{\\partial V_t}{\\partial q} = Ke^{-r(T-t)} \\bigg[N'(-d_2) \\frac{\\partial -d_1}{\\partial q}\\bigg]\n",
    "+(T-t)S_te^{-q(T-t)}N(-d_1) + N'(-d_1)\\frac{\\partial -d_1}{\\partial q}S_te^{-q(T-t)}\n",
    "$$\n",
    "\n",
    "$$\n",
    "\\frac{\\partial V_t}{\\partial q} = Ke^{-r(T-t)} N'(-d_2) \\frac{\\partial -d_1}{\\partial q}\n",
    "+(T-t)S_te^{-q(T-t)}N(-d_1) + N'(-d_1)\\frac{\\partial -d_1}{\\partial q}S_te^{-q(T-t)}\n",
    "$$\n",
    "\n",
    "\n",
    "Factorizamos $\\frac{\\partial -d_1}{\\partial q}$\n",
    "\n",
    "$$\n",
    "\\frac{\\partial V_t}{\\partial q} = (T-t)S_te^{-q(T-t)}N(-d_1) + \\frac{\\partial -d_1}{\\partial q}\\bigg[-S_te^{-q(T-t)}N'(-d_1)+Ke^{-r(T-t)} N'(-d_2) \\bigg]\n",
    "$$\n",
    "\n",
    "\n",
    "Por propiedad $S_te^{-q(T-t)}N'(-d_1) = Ke^{-r(T-t)}N'(-d_2)$ el término $-S_te^{-q(T-t)}N'(-d_1)+ Ke^{-r(T-t)}N'(-d_2) $ es igual a 0.\n",
    "\n",
    "$$\n",
    "\\frac{\\partial V_t}{\\partial q} = (T-t)S_te^{-q(T-t)}N(-d_1) + \\frac{\\partial -d_1}{\\partial q}\\bigg[0 \\bigg]\n",
    "$$\n",
    "\n",
    "$$\n",
    "\\frac{\\partial V_t}{\\partial q} = S_t(T-t)e^{-q(T-t)}N(-d_1)\n",
    "$$"
   ]
  },
  {
   "cell_type": "markdown",
   "metadata": {},
   "source": [
    "**lambda** $\\lambda = \\Omega = \\frac{\\partial V_t}{\\partial S_t} \\times  \\frac{S_t}{V_t}$\n",
    "\n",
    "**Call**\n",
    "\n",
    "Lambda $\\lambda$ es una medida de apalancamiento. Es el cambio porcentual en el valor de la opción por el cambio porcentual en el precio del subyacente.\n",
    "\n",
    "$$\n",
    "\\lambda = \\Omega = \\frac{\\partial V_t}{\\partial S_t} \\times  \\frac{S_t}{V_t}\n",
    "$$\n",
    "\n",
    "Como se puede observar $\\lambda$ es la griega $\\Delta$ por la razón entre el precio del subyacente y el valor justo de B&S de la opción call $\\frac{\\partial V_t}{\\partial S_t} \\times  \\frac{S_t}{V_t}$:\n",
    "\n",
    "$\\lambda = \\Omega = \\Delta \\times  \\frac{S_t}{V_t}$\n",
    "\n",
    "Ya que $\\Delta = \\frac{\\partial V_t}{\\partial S_t} = N(d_1)  $ (vease en la derivación de $\\Delta$ para la opción call) y $V_t = S_tN(d_1) - Ke^{-r(T-t)}N(d_2)$ entonces $\\lambda$:\n",
    "\n",
    "$$\n",
    "\\lambda = \\Delta \\times  \\frac{S_t}{V_t}\n",
    "$$\n",
    "\n",
    "\n",
    "$$\n",
    "\\lambda = N(d_1) \\times  \\frac{S_t}{S_tN(d_1) - Ke^{-r(T-t)}N(d_2)}\n",
    "$$\n",
    "\n",
    "$$\n",
    "\\lambda = \\frac{N(d_1)S_t}{S_tN(d_1) - Ke^{-r(T-t)}N(d_2)}\n",
    "$$\n",
    "\n",
    "\n",
    "**Put**\n",
    "\n",
    "\n",
    "Como se puede observar $\\lambda$ es la griega $\\Delta$ por la razón entre el precio del subyacente y el valor justo de B&S de la opción put $\\frac{\\partial V_t}{\\partial S_t} \\times  \\frac{S_t}{V_t}$:\n",
    "\n",
    "$\\lambda = \\Omega = \\Delta \\times  \\frac{S_t}{V_t}$\n",
    "\n",
    "Ya que $\\Delta = \\frac{\\partial V_t}{\\partial S_t} = -N(-d_1)  $ (vease en la derivación de $\\Delta$ para la opción put) y $V_t = e^{-r(T-t)}kN(-d_2) -  S_tN(-d_1)$ entonces $\\lambda$:\n",
    "\n",
    "$$\n",
    "\\lambda = \\Delta \\times  \\frac{S_t}{V_t}\n",
    "$$\n",
    "\n",
    "\n",
    "$$\n",
    "\\lambda = -N(-d_1) \\times  \\frac{S_t}{e^{-r(T-t)}kN(-d_2) -  S_tN(-d_1)}\n",
    "$$\n",
    "\n",
    "$$\n",
    "\\lambda = \\frac{-N(-d_1)S_t}{e^{-r(T-t)}kN(-d_2) -  S_tN(-d_1)}\n",
    "$$\n"
   ]
  },
  {
   "cell_type": "markdown",
   "metadata": {},
   "source": []
  },
  {
   "cell_type": "markdown",
   "metadata": {},
   "source": [
    "**Second-order Greeks**"
   ]
  },
  {
   "cell_type": "markdown",
   "metadata": {},
   "source": [
    "gamma $\\Gamma$"
   ]
  },
  {
   "cell_type": "markdown",
   "metadata": {},
   "source": []
  },
  {
   "cell_type": "markdown",
   "metadata": {},
   "source": [
    "vanna"
   ]
  },
  {
   "cell_type": "markdown",
   "metadata": {},
   "source": []
  },
  {
   "cell_type": "markdown",
   "metadata": {},
   "source": [
    "charm"
   ]
  },
  {
   "cell_type": "markdown",
   "metadata": {},
   "source": []
  },
  {
   "cell_type": "markdown",
   "metadata": {},
   "source": [
    "vomma"
   ]
  },
  {
   "cell_type": "markdown",
   "metadata": {},
   "source": []
  },
  {
   "cell_type": "markdown",
   "metadata": {},
   "source": [
    "**Veta** $\\large{\\frac{\\partial^2 V_t}{\\partial \\sigma \\partial \\tau}}$\n",
    "\n",
    "> **Call**  \n",
    "> Del cálculo de Theta, sabemos que las derivadas pariales de $d_1$ y $d_2$ respecto a la variable $\\tau$ son:  \n",
    ">  \n",
    "> $$\\begin{align*}\n",
    "\\frac{\\partial d_1}{\\partial \\tau} &= -\\frac{1}{2\\sigma\\sqrt{\\tau}}[\\frac{ln(\\frac{S}{K})}{\\tau}-(r+\\frac{\\sigma^2}{2})] \\\\\n",
    "\\\\\n",
    "\\frac{\\partial d_2}{\\partial \\tau} &= \\frac{\\partial d_1}{\\partial \\tau} - \\frac{\\partial}{\\partial \\tau}[\\sigma \\sqrt{\\tau}] = \\frac{\\partial d_1}{\\partial \\tau} - \\frac{\\sigma}{2\\sqrt{\\tau}} \\\\\n",
    "\\\\\n",
    "&\\therefore \\quad \\frac{\\partial d_1}{\\partial \\tau} = \\frac{\\partial d_2}{\\partial \\tau} + \\frac{\\sigma}{2\\sqrt{\\tau}}\n",
    "\\end{align*}$$  \n",
    ">\n",
    "> Partiendo de la solución de Vega anteriormente desarrollada, se calcula su diferencial respecto de la variable $\\tau$:\n",
    ">\n",
    "> $$\\begin{align*}\n",
    "\\frac{\\partial}{\\partial \\tau}[\\frac{\\partial V_t}{ \\partial \\sigma}] &= \\frac{\\partial}{\\partial \\tau}[S_tN'(d_1)\\sqrt{\\tau}]\\\\\n",
    "\\\\\n",
    "&= S_t \\frac{\\partial}{\\partial \\tau}[N'(d_1)\\sqrt{\\tau}]\\\\\n",
    "\\\\\n",
    "&\\text{Regla del producto & de la cadena.} \\\\\n",
    "&f(\\tau) = N'(d_1) \\quad ; \\quad g(\\tau)=\\sqrt{\\tau}\\\\\n",
    "&f'(\\tau) = N''(d_1) \\frac{\\partial d_1}{\\partial \\tau}\\quad ; \\quad g'(\\tau) = \\frac{1}{2\\sqrt{}\\tau} \\\\\n",
    "\\\\\n",
    "&= S_t [g(\\tau)f'(\\tau) + f(\\tau)g'(\\tau)] \\\\\n",
    "\\\\\n",
    "&\\therefore \\quad \\frac{\\partial^2 V_t}{\\partial \\sigma \\partial \\tau} = S_t [\\sqrt{\\tau}(N''(d_1)\\frac{\\partial d_1}{\\partial \\tau}) + N'(d_1)(\\frac{1}{2\\sqrt{}\\tau})]\n",
    "\\end{align*}$$\n",
    ">\n",
    "> **Put**  \n",
    "> Independientemente del tipo de opción (compra o venta), el cálculo de $d_1$ y $d_2$ se realiza con la misma fórmula. Por ende, el resultado de sus derivadas parciales respecto a cualquier variable es equivalente.\n",
    ">\n",
    ">$$\\begin{align*}\n",
    "\\frac{\\partial d_1}{\\partial \\tau} &= -\\frac{1}{2\\sigma\\sqrt{\\tau}}[\\frac{ln(\\frac{S}{K})}{\\tau}-(r+\\frac{\\sigma^2}{2})] \\\\\n",
    "\\\\\n",
    "\\frac{\\partial d_2}{\\partial \\tau} &= \\frac{\\partial d_1}{\\partial \\tau} - \\frac{\\partial}{\\partial \\tau}[\\sigma \\sqrt{\\tau}] = \\frac{\\partial d_1}{\\partial \\tau} - \\frac{\\sigma}{2\\sqrt{\\tau}} \\\\\n",
    "\\\\\n",
    "&\\therefore \\quad \\frac{\\partial d_1}{\\partial \\tau} = \\frac{\\partial d_2}{\\partial \\tau} + \\frac{\\sigma}{2\\sqrt{\\tau}}\n",
    "\\end{align*}$$\n",
    ">\n",
    "> Dado que la solución de Vega para una opción Call y para una Put es idéntica, sus derivadas parciales respecto cualquier variable también son iguales.\n",
    ">\n",
    ">$$\\begin{align*}\n",
    "\\frac{\\partial}{\\partial \\tau}[\\frac{\\partial V_t}{ \\partial \\sigma}] &= \\frac{\\partial}{\\partial \\tau}[S_tN'(d_1)\\sqrt{\\tau}]\\\\\n",
    "\\\\\n",
    "&= S_t \\frac{\\partial}{\\partial \\tau}[N'(d_1)\\sqrt{\\tau}]\\\\\n",
    "\\\\\n",
    "&\\text{Regla del producto & de la cadena.} \\\\\n",
    "&f(\\tau) = N'(d_1) \\quad ; \\quad g(\\tau)=\\sqrt{\\tau}\\\\\n",
    "&f'(\\tau) = N''(d_1) \\frac{\\partial d_1}{\\partial \\tau}\\quad ; \\quad g'(\\tau) = \\frac{1}{2\\sqrt{}\\tau} \\\\\n",
    "\\\\\n",
    "&= S_t [g(\\tau)f'(\\tau) + f(\\tau)g'(\\tau)] \\\\\n",
    "\\\\\n",
    "&\\therefore \\quad \\frac{\\partial^2 V_t}{\\partial \\sigma \\partial \\tau} = S_t [\\sqrt{\\tau}(N''(d_1)\\frac{\\partial d_1}{\\partial \\tau}) + N'(d_1)(\\frac{1}{2\\sqrt{}\\tau})]\n",
    "\\end{align*}$$ "
   ]
  },
  {
   "cell_type": "markdown",
   "metadata": {},
   "source": [
    "**Vera** $\\large{\\frac{\\partial^2 V_t}{\\partial \\sigma \\partial r}}$\n",
    "\n",
    "> **Call**  \n",
    "> Del cálculo de Rho, sabemos que las derivadas pariales de $d_1$ y $d_2$ respecto a la variable $r$ son:  \n",
    ">  \n",
    "> $$\\begin{align*}\n",
    "\\frac{\\partial d_1}{\\partial r} &= \\frac{\\sqrt{\\tau}}{\\sigma} \\\\\n",
    "\\\\\n",
    "\\frac{\\partial d_2}{\\partial r} &= \\frac{\\partial d_1}{\\partial r} - \\frac{\\partial}{\\partial r}[\\sigma \\sqrt{\\tau}] = \\frac{\\partial d_1}{\\partial r}\\\\\n",
    "\\\\\n",
    "&\\therefore \\quad \\frac{\\partial d_1}{\\partial r} = \\frac{\\partial d_2}{\\partial r}\n",
    "\\end{align*}$$  \n",
    ">\n",
    "> Nuevamente se parte de la solución de Vega, pero en esta ocasión se deriva respecto a $r$.\n",
    "> \n",
    ">$$\\begin{align*}\n",
    "\\frac{\\partial}{\\partial r}[\\frac{\\partial V_t}{ \\partial \\sigma}] &= \\frac{\\partial}{\\partial r}[S_tN'(d_1)\\sqrt{\\tau}]\\\\\n",
    "\\\\\n",
    "&= S_t \\sqrt{\\tau} \\frac{\\partial}{\\partial r}[N'(d_1)]\\\\\n",
    "\\\\\n",
    "&\\text{Regla de la cadena} \\\\\n",
    "&= S_t \\sqrt{\\tau} [N''(d_1)\\frac{\\partial d_1}{\\partial r}]\\\\\n",
    "\\\\\n",
    "&\\text{Sustituyendo $d_1$} \\\\\n",
    "&= S_t \\sqrt{\\tau} [N''(d_1)\\frac{\\sqrt{\\tau}}{\\sigma}] \\\\\n",
    "\\\\\n",
    "&\\therefore \\quad \\frac{\\partial^2 V_t}{\\partial \\sigma \\partial r} = \\frac{S_t \\tau N''(d_1)}{\\sigma}\n",
    "\\end{align*}$$\n",
    ">\n",
    "> **Put**  \n",
    "> Las derivadas parciales de $d_1$ y $d_2$ son iguales para un Call y para un Put.\n",
    ">\n",
    "> $$\\begin{align*}\n",
    "\\frac{\\partial d_1}{\\partial r} &= \\frac{\\sqrt{\\tau}}{\\sigma} \\\\\n",
    "\\\\\n",
    "\\frac{\\partial d_2}{\\partial r} &= \\frac{\\partial d_1}{\\partial r} - \\frac{\\partial}{\\partial r}[\\sigma \\sqrt{\\tau}] = \\frac{\\partial d_1}{\\partial r}\\\\\n",
    "\\\\\n",
    "&\\therefore \\quad \\frac{\\partial d_1}{\\partial r} = \\frac{\\partial d_2}{\\partial r}\n",
    "\\end{align*}$$  \n",
    "> Reiterando, las soluciones de Vega de un Call y de un Put son iguales. Por lo tanto, sus derivadas respecto a $r$ también son las mismas.\n",
    ">\n",
    ">$$\\begin{align*}\n",
    "\\frac{\\partial}{\\partial r}[\\frac{\\partial V_t}{ \\partial \\sigma}] &= \\frac{\\partial}{\\partial r}[S_tN'(d_1)\\sqrt{\\tau}]\\\\\n",
    "\\\\\n",
    "&= S_t \\sqrt{\\tau} \\frac{\\partial}{\\partial r}[N'(d_1)]\\\\\n",
    "\\\\\n",
    "&\\text{Regla de la cadena} \\\\\n",
    "&= S_t \\sqrt{\\tau} [N''(d_1)\\frac{\\partial d_1}{\\partial r}]\\\\\n",
    "\\\\\n",
    "&\\text{Sustituyendo $d_1$} \\\\\n",
    "&= S_t \\sqrt{\\tau} [N''(d_1)\\frac{\\sqrt{\\tau}}{\\sigma}] \\\\\n",
    "\\\\\n",
    "&\\therefore \\quad \\frac{\\partial^2 V_t}{\\partial \\sigma \\partial r} = \\frac{S_t \\tau N''(d_1)}{\\sigma}\n",
    "\\end{align*}$$"
   ]
  },
  {
   "cell_type": "markdown",
   "metadata": {},
   "source": [
    "**Third-order Greeks**"
   ]
  },
  {
   "cell_type": "markdown",
   "metadata": {},
   "source": [
    "speed"
   ]
  },
  {
   "cell_type": "markdown",
   "metadata": {},
   "source": []
  },
  {
   "cell_type": "markdown",
   "metadata": {},
   "source": [
    "zomma"
   ]
  },
  {
   "cell_type": "markdown",
   "metadata": {},
   "source": []
  },
  {
   "cell_type": "markdown",
   "metadata": {},
   "source": [
    "color"
   ]
  },
  {
   "cell_type": "markdown",
   "metadata": {},
   "source": []
  },
  {
   "cell_type": "markdown",
   "metadata": {},
   "source": [
    "ultima"
   ]
  },
  {
   "cell_type": "markdown",
   "metadata": {},
   "source": []
  }
 ],
 "metadata": {
  "kernelspec": {
   "display_name": "Python 3",
   "language": "python",
   "name": "python3"
  },
  "language_info": {
   "codemirror_mode": {
    "name": "ipython",
    "version": 3
   },
   "file_extension": ".py",
   "mimetype": "text/x-python",
   "name": "python",
   "nbconvert_exporter": "python",
   "pygments_lexer": "ipython3",
   "version": "3.8.11"
  }
 },
 "nbformat": 4,
 "nbformat_minor": 4
}
