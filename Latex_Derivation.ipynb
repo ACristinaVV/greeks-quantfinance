{
 "cells": [
  {
   "cell_type": "markdown",
   "metadata": {},
   "source": [
    "<img style=\"float: right; margin: 45px 22px 22px 22px;\" src=\"https://pngimage.net/wp-content/uploads/2018/06/logo-iteso-png-5.png\" width=\"600\" height=\"960\" /> \n",
    "    \n",
    "    \n",
    "# <font color='navy'> Quantitative Finance\n",
    "\n",
    "**Students:**\n",
    "    \n",
    "    Espinosa García, Lyha \n",
    "    Flores Ortiz, Moisés\n",
    "    Lares Barragán, Andrés\n",
    "    Rosas Medellín, Miriam Eunice\n",
    "    Vázquez Vargas, Ana Cristina\n",
    "    \n",
    "**Date:**\n",
    "\n",
    "    December 4th, 2021\n",
    "\n",
    "**Professor:** \t\n",
    "    \n",
    "    José Mario Zárate Carbajal\n",
    "\n",
    "    \n",
    "# Griegas de Opciones Financieras"
   ]
  },
  {
   "cell_type": "markdown",
   "metadata": {},
   "source": [
    "## Primer Orden"
   ]
  },
  {
   "cell_type": "markdown",
   "metadata": {},
   "source": [
    "### Delta  \n",
    "\n",
    "La delta de una opción se define como la tasa de cambio del precio de la opción con respecto al precio del activo subyacente. La pendiente de la curva relaciona el precio de la opción con el precio del activo subyacente. Suponga que la delta de una opción\n",
    "de compra sobre una acción es de 0.6. Esto significa que cuando el precio de la acción cambia en\n",
    "un monto pequeño, el precio de la opción cambia alrededor de 60% de ese monto. "
   ]
  },
  {
   "cell_type": "markdown",
   "metadata": {},
   "source": [
    "### Vega  \n",
    "\n",
    "Para las griegas, generalmente, se asume la volatilidad como un valor constante. \n",
    "\n",
    "Relativa al cambio del valor en la cartera con respecto a la volatilidad del activo, si la vega es alta quiere decir que la cartera es muy sensibe a los cambios en la volatilidad.\n"
   ]
  },
  {
   "cell_type": "markdown",
   "metadata": {},
   "source": [
    "### Theta\n",
    "Representa la tasa de cambio del valor de la cartera con respecto al paso del tiempo, suponiendo que todos los otros factores sean constantes. También se conoce como decaimiento del tiempo (time decay). \n",
    "\n",
    "En términos de opciones, la  theta tiende a ser negativa esto debido a que el valor de la opción tiende a disminuir a medida que el tiempo de vencimiento disminuye."
   ]
  },
  {
   "cell_type": "markdown",
   "metadata": {},
   "source": [
    "### Rho\n",
    "Es la tasa de cambio del valor de una cartera con respecto a la tasa de interés. Por lo tanto mide la sensibilidad de las opciones con respecto a la fluctuación en la tasa de interés. "
   ]
  },
  {
   "cell_type": "markdown",
   "metadata": {},
   "source": [
    "### Epsilon\n"
   ]
  },
  {
   "cell_type": "markdown",
   "metadata": {},
   "source": [
    "### Lambda  \n",
    "\n",
    "Es la letra griega que muestra el cambio en el precio de una opción con respecto al cambio en la volatilidad implicita."
   ]
  },
  {
   "cell_type": "markdown",
   "metadata": {},
   "source": [
    "## Segundo Orden"
   ]
  },
  {
   "cell_type": "markdown",
   "metadata": {},
   "source": [
    "### Gamma\n",
    "\n",
    "Muestra la tasa de cambio de la delta de una opción con respecto al precio del subyacente. \n",
    "El tamaño de gamma describe el cambio en delta, es decir, si gamma es pequeña la delta cambia lentamente. No obstante, si es grande en valores absolutos, significa que la delta es muy sensible al cambio en el precio del subyacente.\n"
   ]
  },
  {
   "cell_type": "markdown",
   "metadata": {},
   "source": [
    "### Vanna\n",
    "\n",
    "Cambio de Delta con respecto a la volatilidad."
   ]
  },
  {
   "cell_type": "markdown",
   "metadata": {},
   "source": [
    "### Charm\n",
    "\n",
    "Cambio de Vega con respecto a la volatilidad."
   ]
  },
  {
   "cell_type": "markdown",
   "metadata": {},
   "source": [
    "### Vomma\n",
    "\n",
    "[resumen]"
   ]
  },
  {
   "cell_type": "markdown",
   "metadata": {},
   "source": [
    "### Veta\n",
    "[resumen]"
   ]
  },
  {
   "cell_type": "markdown",
   "metadata": {},
   "source": [
    "### Vera\n",
    "[resumen]"
   ]
  },
  {
   "cell_type": "markdown",
   "metadata": {},
   "source": [
    "## Tercer Orden"
   ]
  },
  {
   "cell_type": "markdown",
   "metadata": {},
   "source": [
    "### Speed"
   ]
  },
  {
   "cell_type": "markdown",
   "metadata": {},
   "source": [
    "### Zomma"
   ]
  },
  {
   "cell_type": "markdown",
   "metadata": {},
   "source": [
    "### Color"
   ]
  },
  {
   "cell_type": "markdown",
   "metadata": {},
   "source": [
    "### Ultima"
   ]
  },
  {
   "cell_type": "markdown",
   "metadata": {},
   "source": [
    "# Derivaciones"
   ]
  },
  {
   "cell_type": "markdown",
   "metadata": {},
   "source": [
    "#### Propiedad 1   \n",
    "Se tiene un portafolio de una opción de compra europea  \n",
    "$$V_t=S_tN(d_1)-ke^{-r(T-t)}N(d_2)$$  \n",
    "Para poder derivar de una manera más práctica se realiza un cambio de variable para tener todo en términos de $N(d_1)$ ya que se conoce la siguiente propiedad:  \n",
    "$$d_2=d_1-\\sigma \\sqrt{(T-t)}$$  \n",
    "Por lo que se tiene:  \n",
    "$$V_t=S_tN(d_1)-ke^{-r(T-t)}N(d1-\\sigma \\sqrt{(T-t)})$$ \n",
    "Se procede a derivar con respecto de $d_1$ la variable común:  \n",
    "$$\\frac{\\partial V_t}{\\partial d_1}[V_t=S_tN(d_1)-ke^{-r(T-t)}N(d_1-\\sigma \\sqrt{(T-t)})]$$  \n",
    "$$\\frac{\\partial V_t}{\\partial d_1}=0=S_tN'(d_1)-ke^{-r(T-t)}N'(d_1-\\sigma \\sqrt{(T-t)})$$  \n",
    "Esto resulta en la propiedad 1 que sostiene que:    \n",
    "$$S_tN'(d_1)-ke^{-r(T-t)}N'(d_1-\\sigma \\sqrt{(T-t)})=0$$ \n",
    "regresando a las variables originales se tiene lo siguiente:  \n",
    "$$S_tN'(d_1)-ke^{-r(T-t)}N'(d_2)=0$$  \n",
    "o bien que:  \n",
    "$$S_tN'(d_1)=ke^{-r(T-t)}N'(d_2)$$"
   ]
  },
  {
   "cell_type": "markdown",
   "metadata": {},
   "source": [
    "**Delta $\\Delta$**"
   ]
  },
  {
   "cell_type": "markdown",
   "metadata": {},
   "source": [
    "Buscamos las derivadas parciales de $d_1$ y $d_2$ con respecto a $S_t$   \n",
    "$$d_1 = (\\frac{ln(\\frac{St}{K}) + (r + \\frac{\\sigma^2}{2})(T-t))}{\\sigma \\sqrt{T-t}} )$$\n",
    "    \n",
    "$$\\frac{\\partial -d_1}{\\partial S_t} = -\\frac{1}{S_t(\\sigma \\sqrt{T-t})}$$ \n",
    "    \n",
    "$$d_2 = (\\frac{ln(\\frac{St}{K}) + (r - \\frac{\\sigma^2}{2})(T-t))}{\\sigma \\sqrt{T-t}} ) $$\n",
    "      \n",
    "$$\\frac{\\partial d_2}{\\partial S_t} = \\frac{1}{S_t(\\sigma \\sqrt{T-t})}$$ \n",
    "  \n",
    "Por lo tanto se obtiene la siguiente **propiedad (2)**: \n",
    "    \n",
    "$$\\frac{\\partial d_1}{\\partial S_t}  = \\frac{\\partial d_2}{\\partial S_t}$$ \n",
    "\n",
    "**Put**  \n",
    "\n",
    "Tomando en cuenta que por definición el valor justo de una opción put es:  \n",
    "$$ V_t = K e^{-r(T-t)}  N(-d_2)-S_t N(-d_1) $$  \n",
    "\n",
    "$$ \\frac{\\partial V_t}{\\partial S_t} =  K e^{-r(T-t)}  N(-d_2)  \\frac{\\partial -d_2}{\\partial S_t}  - N(-d_1) + S_t N´(-d_1) \\frac{\\partial -d_1}{\\partial S_t} $$\n",
    "\n",
    "Regresamos a encontrar delta, aplicando la propiedad 2:  \n",
    "$$ \\frac{\\partial V_t}{\\partial S_t} =\\frac{\\partial d_1}{\\partial S_t}[K e^{-r(T-t)}  N'(-d_2)-S_t N´(-d_1)   ] -N(-d_1) $$  \n",
    "\n",
    "Aplicando la propiedad 1 eliminamos el término que se encuetra entre corchetes por lo que:  \n",
    "\n",
    "$$ \\Delta=\\frac{\\partial V_t}{\\partial S_t} = -N(-d_1) $$"
   ]
  },
  {
   "cell_type": "markdown",
   "metadata": {},
   "source": [
    "**Vega $\\mathcal{V}$**"
   ]
  },
  {
   "cell_type": "markdown",
   "metadata": {},
   "source": [
    "**Call**  \n",
    "\n",
    "Derivamos $d_1$ y $d_2$ con respecto a $\\sigma$  \n",
    "\n",
    "$$d_1=\\frac{ln(\\frac{S_t}{K})+(r+\\frac{\\sigma^{2} }{2})(T-t)}{\\sigma \\sqrt{T-t}}$$  \n",
    "$$\\frac{\\partial d_1}{\\partial \\sigma }=ln(\\frac{S_t}{K})\\sigma ^{-1}(T-t)^{-\\frac{1}{2}}+r(T-t)\\sigma ^{-1}(T-t)^{-\\frac{1}{2}}+\\frac{\\sigma ^{2}}{2}\\sigma ^{-1}(T-t)^{-\\frac{1}{2}}$$  \n",
    "$$\\frac{\\partial d_1}{\\partial \\sigma }=\\frac{ln(\\frac{S_t}{K})}{\\sigma ^{2}\\sqrt{T-t}}+\\frac{r(T-t)}{\\sigma ^{2}\\sqrt{T-t}}+\\frac{1}{2}\\frac{(T-t)}{\\sqrt{T-t}}$$  \n",
    "\n",
    "$$d_2=\\frac{ln(\\frac{S_t}{K})+(r-\\frac{\\sigma^{2} }{2})(T-t)}{\\sigma \\sqrt{T-t}} = d_1-\\sigma\\sqrt{T-t}$$   \n",
    "Tomando la ultima expresión, derivamos $d_2$ con respecto a $\\sigma$  \n",
    "$$\\frac{\\partial d_2}{\\partial \\sigma }=\\frac{\\partial d_1}{\\partial \\sigma }-\\sqrt{T-t}$$ \n",
    "\n",
    "Con lo anterior obtenemos la siguiente propiedad (3):  \n",
    "$$\\frac{\\partial d_1}{\\partial \\sigma }=\\frac{\\partial d_2}{\\partial \\sigma }+ \\sqrt{T-t}$$  \n",
    "\n",
    "Por definición el valor justo de una opción europea call sin dividendo: \n",
    "$$V_t=S_tN(d_1)-Ke^{-r(T-t)}N(d_2)$$  \n",
    "\n",
    "$$\\frac{\\partial V_t}{\\partial \\sigma }=St \\frac{\\partial N(d_1) }{\\partial d_1}\\frac{\\partial d_1}{\\partial \\sigma } - Ke^{-r(T-t)}\\frac{\\partial N(d_2) }{\\partial d_2}\\frac{\\partial d_2}{\\partial \\sigma }$$   \n",
    "\n",
    "Aplicamos la propiedad antes encontrada (propiedad 3)  \n",
    "$$\\frac{\\partial V_t}{\\partial \\sigma }=St N'(d_1)(\\frac{\\partial d_2}{\\partial \\sigma }+\\sqrt{T-t}) - Ke^{-r(T-t)}N'(d_2)\\frac{\\partial d_2}{\\partial \\sigma }$$    \n",
    "\n",
    "Agrupamos términos   \n",
    "$$\\frac{\\partial V_t}{\\partial \\sigma }=St N'(d_1)\\sqrt{T-t}+\\frac{\\partial d_2}{\\partial \\sigma }[St N'(d_1) - Ke^{-r(T-t)}N'(d_2)]$$      \n",
    "\n",
    "Tomando en cuenta la **propiedad 1** la expresión dentro de los corchetes es $= 0$ por lo tanto:  \n",
    "$$\\nu=\\frac{\\partial V_t}{\\partial \\sigma }=St N'(d_1)\\sqrt{T-t}$$   \n",
    "\n",
    "**Put** \n",
    "\n",
    "Por definición el valor justo de una opción europea put sin dividendo: \n",
    "\n",
    "$$V_t = K e^{-r(T-t)}  N(-d_2)-S_t N(-d_1) $$  \n",
    "\n",
    "$$\\frac{\\partial V_t}{\\partial \\sigma }=Ke^{-r(T-t)}\\frac{\\partial N(-d_2) }{\\partial -d_2}\\frac{\\partial -d_2}{\\partial \\sigma }-St \\frac{\\partial N(-d_1) }{\\partial -d_1}\\frac{\\partial -d_1}{\\partial \\sigma } $$   \n",
    "\n",
    "Aplicamos la propiedad antes encontrada (propiedad 3)  \n",
    "$$\\frac{\\partial V_t}{\\partial \\sigma }=Ke^{-r(T-t)}\\frac{\\partial N(-d_2) }{\\partial -d_2}\\frac{\\partial -d_2}{\\partial \\sigma }-St \\frac{\\partial N(-d_1)}{\\partial -d_1}(\\frac{\\partial- d_2}{\\partial \\sigma }-\\sqrt{T-t})$$  \n",
    "\n",
    "Agrupamos términos   \n",
    "$$\\frac{\\partial V_t}{\\partial \\sigma }=   St N'(d_1)\\sqrt{T-t} +\\frac{\\partial- d_2}{\\partial \\sigma }[ - St N'(-d_1)+Ke^{-r(T-t)}N(-d_2)]$$\n",
    "\n",
    "Tomando en cuenta la **propiedad 1** la expresión dentro de los corchetes es $= 0$ por lo tanto:  \n",
    "$$\\nu=\\frac{\\partial V_t}{\\partial \\sigma }=St N'(d_1)\\sqrt{T-t}$$    "
   ]
  },
  {
   "cell_type": "markdown",
   "metadata": {},
   "source": [
    "**Theta $\\Theta$**"
   ]
  },
  {
   "cell_type": "markdown",
   "metadata": {},
   "source": [
    "**Call** \n",
    "\n",
    "Considerando que $(T-t) = \\tau $  \n",
    "Derivamos $d_1$ y $d_2$ con respecto a $\\tau $  \n",
    "\n",
    "$$d_1=\\frac{ln(\\frac{S_t}{K})+(r+\\frac{\\sigma^{2} }{2})(\\tau)}{\\sigma \\sqrt{\\tau}}$$  \n",
    "$$\\frac{\\partial d_1}{\\partial \\tau }=ln(\\frac{S_t}{K})\\sigma \\tau ^{-\\frac{1}{2}}+ (r+\\frac{\\sigma ^{2}}{2})\\sigma \\tau ^{\\frac{1}{2}}$$  \n",
    "$$\\frac{\\partial d_1}{\\partial \\tau }=-\\frac{1}{2}ln(\\frac{S_t}{K})\\sigma \\tau ^{-\\frac{3}{2}}+ \\frac{1}{2}(r+\\frac{\\sigma ^{2}}{2})\\sigma \\tau ^{\\frac{-1}{2}}$$  \n",
    "$$\\frac{\\partial d_1}{\\partial \\tau }= -\\frac{1}{2}\\frac{ln(\\frac{S_t}{K})}{\\sigma \\tau \\sqrt{\\tau }}+ \\frac{1}{2}\\frac{(r+\\frac{\\sigma ^{2}}{2})}{\\sigma \\sqrt{\\tau }}=-\\frac{1}{2\\sigma \\sqrt{\\tau }}[\\frac{ln(\\frac{S_t}{K})}{\\tau}-(r+\\frac{\\sigma ^{2}}{2})]$$\n",
    "\n",
    "$$d_2=\\frac{ln(\\frac{S_t}{K})+(r-\\frac{\\sigma^{2} }{2})(\\tau)}{\\sigma \\sqrt{\\tau}} = d_1-\\sigma\\sqrt{\\tau}$$   \n",
    "Tomando la ultima expresión, derivamos $d_2$ con respecto a $\\tau$  \n",
    "$$\\frac{\\partial d_2}{\\partial \\tau }=\\frac{\\partial d_1}{\\partial \\tau }-\\frac{1}{2}\\frac{\\sigma}{\\sqrt{\\tau}}$$  \n",
    "\n",
    "Con lo anterior obtenemos la siguiente propiedad (4):  \n",
    "$$\\frac{\\partial d_1}{\\partial \\tau }=\\frac{\\partial d_2}{\\partial \\tau }+\\frac{1}{2}\\frac{\\sigma}{\\sqrt{\\tau}}$$\n",
    "\n",
    "Proseguimos a encontrar Theta, el valor justo de una opción call es:  \n",
    "$$V_t=S_tN(d_1)-Ke^{-r(\\tau)}N(d_2)$$    \n",
    "\n",
    "$$\\frac{\\partial V_t}{\\partial \\tau }=S_t\\frac{\\partial N(d_1)}{\\partial d_1}\\frac{\\partial d_1}{\\partial \\tau}-[-rKe^{-r(\\tau)}N(d_2)+\\frac{\\partial N(d_2)}{\\partial d_2}\\frac{\\partial d_2}{\\partial \\tau}Ke^{-r(\\tau)}]$$  \n",
    "\n",
    "$$\\frac{\\partial V_t}{\\partial \\tau }=S_tN'(d_1)\\frac{\\partial d_1}{\\partial \\tau}-[-rKe^{-r(\\tau)}N(d_2)+Ke^{-r(\\tau)}N'(d_2)\\frac{\\partial d_2}{\\partial \\tau}]$$  \n",
    "\n",
    "Aplicamos la propiedad 4:  \n",
    "$$\\frac{\\partial V_t}{\\partial \\tau }=S_tN'(d_1)(\\frac{\\partial d_2}{\\partial \\tau }+\\frac{1}{2}\\frac{\\sigma}{\\sqrt{\\tau}})- [-rKe^{-r(\\tau)}N(d_2)+Ke^{-r(\\tau)}N'(d_2)\\frac{\\partial d2}{\\partial \\tau}]$$ \n",
    "\n",
    "Reagrupamos terminos:  \n",
    "$$\\frac{\\partial V_t}{\\partial \\tau }=\\frac{1}{2}\\frac{\\sigma}{\\sqrt{\\tau}}S_tN'(d_1)+rKe^{-r(\\tau)}N(d_2)+\\frac{\\partial d_2}{\\partial \\tau}[S_tN'(d_1)-Ke^{-r(\\tau)}N'(d_2)]$$\n",
    "\n",
    "Tomando en cuenta la **propiedad 1** el término que se encuentra entre corchetes $=0$  \n",
    "$$\\frac{\\partial V_t}{\\partial \\tau }=\\frac{1}{2}\\frac{\\sigma}{\\sqrt{\\tau}}S_tN'(d_1)+rKe^{-r(\\tau)}N(d_2)$$   \n",
    "\n",
    "**Put**\n",
    "\n",
    "Por definición el valor justo de una opción put es:  \n",
    "$$V_t = K e^{-r(\\tau)}  N(-d_2)-S_t N(-d_1) $$  \n",
    "\n",
    "$$\\frac{\\partial V_t}{\\partial \\tau }= [-rKe^{-r\\tau}N(-d_2)+Ke^{-r\\tau}N'(-d_2)-d'_2]-S_tN'(-d_1)-d'_1$$  \n",
    "\n",
    "Aplicamos la propiedad 4 y sustituimos  \n",
    "$$\\frac{\\partial V_t}{\\partial \\tau }= [-rKe^{-r\\tau}N(-d_2)+Ke^{-r\\tau}N'(-d_2)-d'_2]-S_tN'(-d_1)(-d'_2-\\frac{1}{2}\\frac{\\sigma}{\\sqrt{\\tau}})$$  \n",
    "\n",
    "Reagrupamos términos \n",
    "\n",
    "$$\\frac{\\partial V_t}{\\partial \\tau }=-d'_2[Ke^{-r\\tau}N'(-d_2)-S_tN'(-d_1)]-rKe^{-r\\tau}N(-d_2)-\\frac{1}{2}\\frac{\\sigma}{\\sqrt{\\tau}}S_tN'(-d_1)$$  \n",
    "\n",
    "Finalmente, aplicamos propiedad 1, el termino entre corchetes = 0:  \n",
    "\n",
    "$$\\frac{\\partial V_t}{\\partial \\tau }=-rKe^{-r\\tau}N(-d_2)-\\frac{1}{2}\\frac{\\sigma}{\\sqrt{\\tau}}S_tN'(-d_1)$$\n",
    "\n",
    "$$\\theta=-\\frac{\\partial V_t}{\\partial \\tau }=-[-rKe^{-r\\tau}N(-d_2)-\\frac{1}{2}\\frac{\\sigma}{\\sqrt{\\tau}}S_tN'(-d_1)]$$\n"
   ]
  },
  {
   "cell_type": "markdown",
   "metadata": {},
   "source": [
    "**Second-order Greeks**"
   ]
  },
  {
   "cell_type": "markdown",
   "metadata": {},
   "source": [
    "gamma $\\Gamma$"
   ]
  },
  {
   "cell_type": "markdown",
   "metadata": {},
   "source": []
  },
  {
   "cell_type": "markdown",
   "metadata": {},
   "source": [
    "**Third-order Greeks**"
   ]
  },
  {
   "cell_type": "markdown",
   "metadata": {},
   "source": [
    "speed"
   ]
  },
  {
   "cell_type": "markdown",
   "metadata": {},
   "source": []
  },
  {
   "cell_type": "markdown",
   "metadata": {},
   "source": [
    "color"
   ]
  },
  {
   "cell_type": "markdown",
   "metadata": {},
   "source": []
  }
 ],
 "metadata": {
  "kernelspec": {
   "display_name": "Python 3",
   "language": "python",
   "name": "python3"
  },
  "language_info": {
   "codemirror_mode": {
    "name": "ipython",
    "version": 3
   },
   "file_extension": ".py",
   "mimetype": "text/x-python",
   "name": "python",
   "nbconvert_exporter": "python",
   "pygments_lexer": "ipython3",
   "version": "3.8.5"
  }
 },
 "nbformat": 4,
 "nbformat_minor": 4
}
