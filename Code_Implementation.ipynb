{
 "cells": [
  {
   "cell_type": "markdown",
   "metadata": {},
   "source": [
    "<img style=\"float: right; margin: 45px 22px 22px 22px;\" src=\"https://pngimage.net/wp-content/uploads/2018/06/logo-iteso-png-5.png\" width=\"600\" height=\"960\" /> \n",
    "    \n",
    "    \n",
    "# <font color='navy'> Quantitative Finance\n",
    "\n",
    "**Students:**\n",
    "    \n",
    "    Espinosa García, Lyha \n",
    "    Flores Ortiz, Moisés\n",
    "    Lares Barragán, Andrés\n",
    "    Rosas Medellín, Miriam Eunice\n",
    "    Vázquez Vargas, Ana Cristina\n",
    "    \n",
    "**Date:**\n",
    "\n",
    "    December 4th, 2021\n",
    "\n",
    "**Professor:** \t\n",
    "    \n",
    "    José Mario Zárate Carbajal\n",
    "\n",
    "    \n",
    "# Option Greeks"
   ]
  },
  {
   "cell_type": "code",
   "execution_count": 217,
   "metadata": {},
   "outputs": [],
   "source": [
    "import numpy as np, scipy.stats as si, matplotlib.pyplot as plt"
   ]
  },
  {
   "cell_type": "code",
   "execution_count": 155,
   "metadata": {},
   "outputs": [],
   "source": [
    "class Option:\n",
    "    \n",
    "    # Definir y asignar los atributos del objeto.\n",
    "    def __init__(self, tipo:str, S:float, K:float, r:float, sigma:float, T: int):\n",
    "        if tipo is None:\n",
    "            raise ValueError(\"Defina un tipo de opción (call/put).\")\n",
    "        self.tipo = tipo\n",
    "        self.S = S\n",
    "        self.K = K\n",
    "        self.r = r\n",
    "        self.sigma = sigma\n",
    "        self.T = T\n",
    "        self.d1 = (np.log(self.S / self.K) + (self.r + 0.5 * self.sigma ** 2) * self.T) / (self.sigma * np.sqrt(self.T))\n",
    "        self.d2 = (np.log(self.S / self.K) + (self.r - 0.5 * self.sigma ** 2) * self.T) / (self.sigma * np.sqrt(self.T))\n",
    "    \n",
    "    def get_fv(self)->float:\n",
    "        if self.tipo=='call':\n",
    "            self.fv = self.S * si.norm.cdf(self.d1, 0.0, 1.0) - self.K * np.exp(-self.r * self.T) * si.norm.cdf(self.d2, 0.0, 1.0)\n",
    "            return self.fv\n",
    "        elif self.tipo=='put':\n",
    "            self.fv = self.K*np.exp(-self.r*self.T)*si.norm.cdf(-self.d2, 0.0, 1.0) - self.S*si.norm.cdf(-self.d1, 0.0, 1.0)\n",
    "            return self.fv\n",
    "        \n",
    "    @staticmethod #Alternative Constructor\n",
    "    def Options(tipo, S, K, r, sigma, T):\n",
    "        return Option(tipo, S, K, r, sigma, T)"
   ]
  },
  {
   "cell_type": "code",
   "execution_count": 250,
   "metadata": {},
   "outputs": [],
   "source": [
    "S = np.ones(11)*52 #np.arange(40,62,2)\n",
    "tipo=['call']*11\n",
    "K= np.ones(11)*50\n",
    "T= np.arange(5.5,0,-0.5) #np.ones(11)\n",
    "r= np.ones(11)*.05\n",
    "vol= np.ones(11)*0.257841618330987"
   ]
  },
  {
   "cell_type": "code",
   "execution_count": 251,
   "metadata": {},
   "outputs": [],
   "source": [
    "options = [Option(tipo[i],S[i],K[i],r[i],vol[i],T[i]) for i in range(len(S))]"
   ]
  },
  {
   "cell_type": "code",
   "execution_count": 252,
   "metadata": {
    "scrolled": false
   },
   "outputs": [
    {
     "data": {
      "image/png": "[encoded data removed]",
      "text/plain": [
       "<Figure size 864x504 with 1 Axes>"
      ]
     },
     "metadata": {
      "needs_background": "light"
     },
     "output_type": "display_data"
    }
   ],
   "source": [
    "FVs = [options[j].get_fv() for j in range(len(options))]\n",
    "plt.figure(figsize=(12, 7))\n",
    "plt.title(\"Sensitivity Plot Ex. Time Decay\")\n",
    "plt.plot(T, FVs)\n",
    "plt.ylabel(\"Fair Value\")\n",
    "plt.show()"
   ]
  },
  {
   "cell_type": "code",
   "execution_count": 253,
   "metadata": {},
   "outputs": [
    {
     "data": {
      "text/plain": [
       "array([5.5, 5. , 4.5, 4. , 3.5, 3. , 2.5, 2. , 1.5, 1. , 0.5])"
      ]
     },
     "execution_count": 253,
     "metadata": {},
     "output_type": "execute_result"
    }
   ],
   "source": [
    "T"
   ]
  }
 ],
 "metadata": {
  "kernelspec": {
   "display_name": "Python 3",
   "language": "python",
   "name": "python3"
  },
  "language_info": {
   "codemirror_mode": {
    "name": "ipython",
    "version": 3
   },
   "file_extension": ".py",
   "mimetype": "text/x-python",
   "name": "python",
   "nbconvert_exporter": "python",
   "pygments_lexer": "ipython3",
   "version": "3.8.5"
  }
 },
 "nbformat": 4,
 "nbformat_minor": 4
}
