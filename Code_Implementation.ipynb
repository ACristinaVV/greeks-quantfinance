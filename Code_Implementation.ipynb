{
 "cells": [
  {
   "cell_type": "markdown",
   "metadata": {},
   "source": [
    "<img style=\"float: right; margin: 45px 22px 22px 22px;\" src=\"https://pngimage.net/wp-content/uploads/2018/06/logo-iteso-png-5.png\" width=\"600\" height=\"960\" /> \n",
    "    \n",
    "    \n",
    "# <font color='navy'> Quantitative Finance\n",
    "\n",
    "**Students:**\n",
    "    \n",
    "    Espinosa García, Lyha \n",
    "    Flores Ortiz, Moisés\n",
    "    Lares Barragán, Andrés\n",
    "    Rosas Medellín, Miriam Eunice\n",
    "    Vázquez Vargas, Ana Cristina\n",
    "    \n",
    "**Date:**\n",
    "\n",
    "    December 4th, 2021\n",
    "\n",
    "**Professor:** \t\n",
    "    \n",
    "    José Mario Zárate Carbajal\n",
    "\n",
    "    \n",
    "# Option Greeks"
   ]
  },
  {
   "cell_type": "code",
   "execution_count": null,
   "metadata": {},
   "outputs": [],
   "source": []
  }
 ],
 "metadata": {
  "kernelspec": {
   "display_name": "Python 3",
   "language": "python",
   "name": "python3"
  },
  "language_info": {
   "codemirror_mode": {
    "name": "ipython",
    "version": 3
   },
   "file_extension": ".py",
   "mimetype": "text/x-python",
   "name": "python",
   "nbconvert_exporter": "python",
   "pygments_lexer": "ipython3",
   "version": "3.8.5"
  }
 },
 "nbformat": 4,
 "nbformat_minor": 4
}
