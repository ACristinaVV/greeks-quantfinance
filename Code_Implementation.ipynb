{
 "cells": [
  {
   "cell_type": "markdown",
   "metadata": {},
   "source": [
    "<img style=\"float: left; margin: 45px 22px 22px 22px;\" src=\"https://pngimage.net/wp-content/uploads/2018/06/logo-iteso-png-5.png\" width=\"300\" height=\"500\" /> \n",
    "    \n",
    "    \n",
    "## <font color='navy'> Quantitative Finance\n",
    "\n",
    "**Student:** Andrés Lares Barragán\n",
    "\n",
    "**Date:** October 18th, 2021  \n",
    "\n",
    "**ID** :  IF724055\n",
    "\n",
    "**Professor:** \tJosé Mario Zárate Carbajal\n",
    "\n",
    "    \n",
    "# Option Greeks"
   ]
  }
 ],
 "metadata": {
  "kernelspec": {
   "display_name": "Python 3",
   "language": "python",
   "name": "python3"
  },
  "language_info": {
   "codemirror_mode": {
    "name": "ipython",
    "version": 3
   },
   "file_extension": ".py",
   "mimetype": "text/x-python",
   "name": "python",
   "nbconvert_exporter": "python",
   "pygments_lexer": "ipython3",
   "version": "3.8.5"
  }
 },
 "nbformat": 4,
 "nbformat_minor": 4
}
